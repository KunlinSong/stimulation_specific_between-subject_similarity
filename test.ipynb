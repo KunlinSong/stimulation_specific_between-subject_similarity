{
 "cells": [
  {
   "cell_type": "code",
   "execution_count": 2,
   "metadata": {},
   "outputs": [
    {
     "data": {
      "text/plain": [
       "array([[ 7.,  1.,  2.],\n",
       "       [ 6., nan,  3.],\n",
       "       [ 8.,  4.,  9.]])"
      ]
     },
     "execution_count": 2,
     "metadata": {},
     "output_type": "execute_result"
    }
   ],
   "source": [
    "import numpy as np\n",
    "\n",
    "a = np.arange(1, 10).reshape(3, 3).astype(float)\n",
    "a[1, 1] = np.nan\n",
    "rg = np.random.default_rng(1)\n",
    "nni = np.nonzero(~np.isnan(a))\n",
    "ri = np.stack(nni, axis=0)\n",
    "rg.shuffle(ri, axis=1)\n",
    "mri = tuple([i for i in ri])\n",
    "a[nni] = a[mri]\n",
    "a"
   ]
  },
  {
   "cell_type": "code",
   "execution_count": 4,
   "metadata": {},
   "outputs": [
    {
     "data": {
      "text/plain": [
       "array([8., 7., 1., 3., 2., 4., 6., 9.])"
      ]
     },
     "execution_count": 4,
     "metadata": {},
     "output_type": "execute_result"
    }
   ],
   "source": [
    "a[tuple(ri)]"
   ]
  }
 ],
 "metadata": {
  "kernelspec": {
   "display_name": "Normal",
   "language": "python",
   "name": "python3"
  },
  "language_info": {
   "codemirror_mode": {
    "name": "ipython",
    "version": 3
   },
   "file_extension": ".py",
   "mimetype": "text/x-python",
   "name": "python",
   "nbconvert_exporter": "python",
   "pygments_lexer": "ipython3",
   "version": "3.10.13"
  }
 },
 "nbformat": 4,
 "nbformat_minor": 2
}
