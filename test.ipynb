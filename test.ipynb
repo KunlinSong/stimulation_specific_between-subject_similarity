{
 "cells": [
  {
   "cell_type": "markdown",
   "metadata": {},
   "source": [
    "# Analysis"
   ]
  },
  {
   "cell_type": "markdown",
   "metadata": {},
   "source": [
    "## Basic Parameters"
   ]
  },
  {
   "cell_type": "code",
   "execution_count": null,
   "metadata": {},
   "outputs": [],
   "source": [
    "DATA_DIRNAME = \"./Dataset\"\n",
    "GEN_DIRNAME = \"./Generates\"\n",
    "HEATMAP_CMAP = \"seismic\"\n",
    "GROUP_COLORS = {\n",
    "    \"Real Visual\": \"#193E8F\",\n",
    "    \"Real Auditory\": \"#E53528\",\n",
    "    \"Random Visual\": \"#55B7E6\",\n",
    "    \"Random Auditory\": \"#F09739\", \n",
    "}"
   ]
  }
 ],
 "metadata": {
  "kernelspec": {
   "display_name": "Normal",
   "language": "python",
   "name": "python3"
  },
  "language_info": {
   "name": "python",
   "version": "3.10.13"
  }
 },
 "nbformat": 4,
 "nbformat_minor": 2
}
